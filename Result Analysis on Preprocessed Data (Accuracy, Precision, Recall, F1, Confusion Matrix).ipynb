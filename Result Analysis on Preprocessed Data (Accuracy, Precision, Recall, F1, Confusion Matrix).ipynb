{
 "cells": [
  {
   "cell_type": "markdown",
   "metadata": {},
   "source": [
    "# This Notebook starts from Preprocessed Dataframework. \"df_spark.csv\" is the dataframe"
   ]
  },
  {
   "cell_type": "code",
   "execution_count": 33,
   "metadata": {},
   "outputs": [],
   "source": [
    "import pandas as pd\n",
    "from sklearn.preprocessing import StandardScaler\n",
    "from sklearn.pipeline import Pipeline\n",
    "from sklearn.linear_model import LogisticRegression\n",
    "from sklearn.svm import LinearSVC\n",
    "from sklearn.model_selection import cross_val_score\n",
    "import matplotlib.pyplot as plt\n",
    "from sklearn.model_selection import learning_curve\n",
    "import numpy as np\n",
    "from sklearn.metrics import accuracy_score\n",
    "from sklearn.metrics import classification_report\n",
    "from sklearn.metrics import confusion_matrix\n",
    "from sklearn.model_selection import train_test_split\n",
    "import itertools"
   ]
  },
  {
   "cell_type": "code",
   "execution_count": 2,
   "metadata": {},
   "outputs": [],
   "source": [
    "df_spark = pd.read_csv('df_spark.csv')"
   ]
  },
  {
   "cell_type": "code",
   "execution_count": 3,
   "metadata": {},
   "outputs": [
    {
     "data": {
      "text/html": [
       "<div>\n",
       "<style scoped>\n",
       "    .dataframe tbody tr th:only-of-type {\n",
       "        vertical-align: middle;\n",
       "    }\n",
       "\n",
       "    .dataframe tbody tr th {\n",
       "        vertical-align: top;\n",
       "    }\n",
       "\n",
       "    .dataframe thead th {\n",
       "        text-align: right;\n",
       "    }\n",
       "</style>\n",
       "<table border=\"1\" class=\"dataframe\">\n",
       "  <thead>\n",
       "    <tr style=\"text-align: right;\">\n",
       "      <th></th>\n",
       "      <th>Unnamed: 0</th>\n",
       "      <th>0</th>\n",
       "      <th>1</th>\n",
       "      <th>2</th>\n",
       "      <th>3</th>\n",
       "      <th>4</th>\n",
       "      <th>5</th>\n",
       "      <th>6</th>\n",
       "      <th>7</th>\n",
       "      <th>8</th>\n",
       "      <th>9</th>\n",
       "      <th>10</th>\n",
       "      <th>11</th>\n",
       "    </tr>\n",
       "  </thead>\n",
       "  <tbody>\n",
       "    <tr>\n",
       "      <th>0</th>\n",
       "      <td>0</td>\n",
       "      <td>7</td>\n",
       "      <td>21</td>\n",
       "      <td>30</td>\n",
       "      <td>2</td>\n",
       "      <td>3</td>\n",
       "      <td>30</td>\n",
       "      <td>2</td>\n",
       "      <td>3</td>\n",
       "      <td>59</td>\n",
       "      <td>7</td>\n",
       "      <td>2</td>\n",
       "      <td>0</td>\n",
       "    </tr>\n",
       "    <tr>\n",
       "      <th>1</th>\n",
       "      <td>1</td>\n",
       "      <td>7</td>\n",
       "      <td>32</td>\n",
       "      <td>70</td>\n",
       "      <td>2</td>\n",
       "      <td>4</td>\n",
       "      <td>68</td>\n",
       "      <td>2</td>\n",
       "      <td>4</td>\n",
       "      <td>134</td>\n",
       "      <td>7</td>\n",
       "      <td>2</td>\n",
       "      <td>0</td>\n",
       "    </tr>\n",
       "    <tr>\n",
       "      <th>2</th>\n",
       "      <td>2</td>\n",
       "      <td>7</td>\n",
       "      <td>15</td>\n",
       "      <td>1</td>\n",
       "      <td>2</td>\n",
       "      <td>2</td>\n",
       "      <td>0</td>\n",
       "      <td>2</td>\n",
       "      <td>2</td>\n",
       "      <td>0</td>\n",
       "      <td>7</td>\n",
       "      <td>2</td>\n",
       "      <td>0</td>\n",
       "    </tr>\n",
       "    <tr>\n",
       "      <th>3</th>\n",
       "      <td>3</td>\n",
       "      <td>7</td>\n",
       "      <td>33</td>\n",
       "      <td>77</td>\n",
       "      <td>2</td>\n",
       "      <td>7</td>\n",
       "      <td>73</td>\n",
       "      <td>2</td>\n",
       "      <td>7</td>\n",
       "      <td>144</td>\n",
       "      <td>7</td>\n",
       "      <td>2</td>\n",
       "      <td>0</td>\n",
       "    </tr>\n",
       "    <tr>\n",
       "      <th>4</th>\n",
       "      <td>4</td>\n",
       "      <td>7</td>\n",
       "      <td>55</td>\n",
       "      <td>78</td>\n",
       "      <td>3</td>\n",
       "      <td>7</td>\n",
       "      <td>74</td>\n",
       "      <td>3</td>\n",
       "      <td>7</td>\n",
       "      <td>146</td>\n",
       "      <td>8</td>\n",
       "      <td>2</td>\n",
       "      <td>0</td>\n",
       "    </tr>\n",
       "  </tbody>\n",
       "</table>\n",
       "</div>"
      ],
      "text/plain": [
       "   Unnamed: 0  0   1   2  3  4   5  6  7    8  9  10  11\n",
       "0           0  7  21  30  2  3  30  2  3   59  7   2   0\n",
       "1           1  7  32  70  2  4  68  2  4  134  7   2   0\n",
       "2           2  7  15   1  2  2   0  2  2    0  7   2   0\n",
       "3           3  7  33  77  2  7  73  2  7  144  7   2   0\n",
       "4           4  7  55  78  3  7  74  3  7  146  8   2   0"
      ]
     },
     "execution_count": 3,
     "metadata": {},
     "output_type": "execute_result"
    }
   ],
   "source": [
    "df_spark.head()"
   ]
  },
  {
   "cell_type": "code",
   "execution_count": 4,
   "metadata": {},
   "outputs": [],
   "source": [
    "df_spark = df_spark.drop(columns=\"Unnamed: 0\")"
   ]
  },
  {
   "cell_type": "code",
   "execution_count": 5,
   "metadata": {},
   "outputs": [
    {
     "data": {
      "text/html": [
       "<div>\n",
       "<style scoped>\n",
       "    .dataframe tbody tr th:only-of-type {\n",
       "        vertical-align: middle;\n",
       "    }\n",
       "\n",
       "    .dataframe tbody tr th {\n",
       "        vertical-align: top;\n",
       "    }\n",
       "\n",
       "    .dataframe thead th {\n",
       "        text-align: right;\n",
       "    }\n",
       "</style>\n",
       "<table border=\"1\" class=\"dataframe\">\n",
       "  <thead>\n",
       "    <tr style=\"text-align: right;\">\n",
       "      <th></th>\n",
       "      <th>0</th>\n",
       "      <th>1</th>\n",
       "      <th>2</th>\n",
       "      <th>3</th>\n",
       "      <th>4</th>\n",
       "      <th>5</th>\n",
       "      <th>6</th>\n",
       "      <th>7</th>\n",
       "      <th>8</th>\n",
       "      <th>9</th>\n",
       "      <th>10</th>\n",
       "      <th>11</th>\n",
       "    </tr>\n",
       "  </thead>\n",
       "  <tbody>\n",
       "    <tr>\n",
       "      <th>0</th>\n",
       "      <td>7</td>\n",
       "      <td>21</td>\n",
       "      <td>30</td>\n",
       "      <td>2</td>\n",
       "      <td>3</td>\n",
       "      <td>30</td>\n",
       "      <td>2</td>\n",
       "      <td>3</td>\n",
       "      <td>59</td>\n",
       "      <td>7</td>\n",
       "      <td>2</td>\n",
       "      <td>0</td>\n",
       "    </tr>\n",
       "    <tr>\n",
       "      <th>1</th>\n",
       "      <td>7</td>\n",
       "      <td>32</td>\n",
       "      <td>70</td>\n",
       "      <td>2</td>\n",
       "      <td>4</td>\n",
       "      <td>68</td>\n",
       "      <td>2</td>\n",
       "      <td>4</td>\n",
       "      <td>134</td>\n",
       "      <td>7</td>\n",
       "      <td>2</td>\n",
       "      <td>0</td>\n",
       "    </tr>\n",
       "    <tr>\n",
       "      <th>2</th>\n",
       "      <td>7</td>\n",
       "      <td>15</td>\n",
       "      <td>1</td>\n",
       "      <td>2</td>\n",
       "      <td>2</td>\n",
       "      <td>0</td>\n",
       "      <td>2</td>\n",
       "      <td>2</td>\n",
       "      <td>0</td>\n",
       "      <td>7</td>\n",
       "      <td>2</td>\n",
       "      <td>0</td>\n",
       "    </tr>\n",
       "    <tr>\n",
       "      <th>3</th>\n",
       "      <td>7</td>\n",
       "      <td>33</td>\n",
       "      <td>77</td>\n",
       "      <td>2</td>\n",
       "      <td>7</td>\n",
       "      <td>73</td>\n",
       "      <td>2</td>\n",
       "      <td>7</td>\n",
       "      <td>144</td>\n",
       "      <td>7</td>\n",
       "      <td>2</td>\n",
       "      <td>0</td>\n",
       "    </tr>\n",
       "    <tr>\n",
       "      <th>4</th>\n",
       "      <td>7</td>\n",
       "      <td>55</td>\n",
       "      <td>78</td>\n",
       "      <td>3</td>\n",
       "      <td>7</td>\n",
       "      <td>74</td>\n",
       "      <td>3</td>\n",
       "      <td>7</td>\n",
       "      <td>146</td>\n",
       "      <td>8</td>\n",
       "      <td>2</td>\n",
       "      <td>0</td>\n",
       "    </tr>\n",
       "  </tbody>\n",
       "</table>\n",
       "</div>"
      ],
      "text/plain": [
       "   0   1   2  3  4   5  6  7    8  9  10  11\n",
       "0  7  21  30  2  3  30  2  3   59  7   2   0\n",
       "1  7  32  70  2  4  68  2  4  134  7   2   0\n",
       "2  7  15   1  2  2   0  2  2    0  7   2   0\n",
       "3  7  33  77  2  7  73  2  7  144  7   2   0\n",
       "4  7  55  78  3  7  74  3  7  146  8   2   0"
      ]
     },
     "execution_count": 5,
     "metadata": {},
     "output_type": "execute_result"
    }
   ],
   "source": [
    "df_spark.head()"
   ]
  },
  {
   "cell_type": "markdown",
   "metadata": {},
   "source": [
    "# In the following code X contains features and y contains label"
   ]
  },
  {
   "cell_type": "code",
   "execution_count": 7,
   "metadata": {},
   "outputs": [],
   "source": [
    "y = df_spark.iloc[:,0].values\n",
    "X = df_spark.iloc[:,1:].values"
   ]
  },
  {
   "cell_type": "markdown",
   "metadata": {},
   "source": [
    "# The whole dataset is split into 80:20 ratio. X_train contains 80% of the features, X_test contains 20% of the features and y_train contains 80% corresponding label of X_train and y_test contains 20% corresponding label of X_test"
   ]
  },
  {
   "cell_type": "code",
   "execution_count": 32,
   "metadata": {},
   "outputs": [],
   "source": [
    "X_train, X_test, y_train, y_test = train_test_split(X,y, test_size=0.20, random_state = 1)"
   ]
  },
  {
   "cell_type": "markdown",
   "metadata": {},
   "source": [
    "# 5-Fold Cross validation Estimation for Logistic Regression"
   ]
  },
  {
   "cell_type": "code",
   "execution_count": 12,
   "metadata": {},
   "outputs": [],
   "source": [
    "pipe_lr = Pipeline([('scl', StandardScaler()),('clf', LogisticRegression(penalty='l2', random_state=0))])\n",
    "train_sizes, train_scores, test_scores = learning_curve(estimator=pipe_lr,X=X, y=y, train_sizes=np.linspace(0.2,1.0,5), cv=5, n_jobs=-1)\n",
    "train_mean = np.mean(train_scores, axis=1)\n",
    "train_std = np.std(train_scores, axis=1)\n",
    "test_mean = np.mean(test_scores, axis=1)\n",
    "test_std = np.std(test_scores, axis=1)"
   ]
  },
  {
   "cell_type": "code",
   "execution_count": 30,
   "metadata": {},
   "outputs": [
    {
     "name": "stdout",
     "output_type": "stream",
     "text": [
      "57270\n",
      "114540\n",
      "171810\n",
      "229080\n",
      "286350\n"
     ]
    }
   ],
   "source": [
    "for i in train_sizes:\n",
    "    print(i)"
   ]
  },
  {
   "cell_type": "code",
   "execution_count": 31,
   "metadata": {},
   "outputs": [
    {
     "name": "stdout",
     "output_type": "stream",
     "text": [
      "0.9809708398812642\n",
      "0.9807019381875328\n",
      "0.9852767592107561\n",
      "0.9823686048541994\n",
      "0.9832561550550027\n"
     ]
    }
   ],
   "source": [
    "for i in train_mean:\n",
    "    print(i)"
   ]
  },
  {
   "cell_type": "code",
   "execution_count": 32,
   "metadata": {},
   "outputs": [
    {
     "name": "stdout",
     "output_type": "stream",
     "text": [
      "0.9664216730632615\n",
      "0.9730514079742971\n",
      "0.977663927500444\n",
      "0.979675511645041\n",
      "0.9830616753741129\n"
     ]
    }
   ],
   "source": [
    "for i in test_mean:\n",
    "    print(i)"
   ]
  },
  {
   "cell_type": "markdown",
   "metadata": {},
   "source": [
    "# 5-Fold Cross validation Estimation for SVM"
   ]
  },
  {
   "cell_type": "code",
   "execution_count": 34,
   "metadata": {},
   "outputs": [],
   "source": [
    "pipe_svc = Pipeline([('scl', StandardScaler()),('clf', LinearSVC())])\n",
    "train_sizes_svc, train_scores_svc, test_scores_svc = learning_curve(estimator=pipe_svc,X=X, y=y, train_sizes=np.linspace(0.2,1.0,5), cv=5, n_jobs=-1)\n",
    "train_mean_svc = np.mean(train_scores_svc, axis=1)\n",
    "train_std_svc = np.std(train_scores_svc, axis=1)\n",
    "test_mean_svc = np.mean(test_scores_svc, axis=1)\n",
    "test_std_svc = np.std(test_scores_svc, axis=1)"
   ]
  },
  {
   "cell_type": "code",
   "execution_count": 35,
   "metadata": {},
   "outputs": [
    {
     "name": "stdout",
     "output_type": "stream",
     "text": [
      "0.9829753797799894\n",
      "0.9816710319539025\n",
      "0.98534436095477\n",
      "0.9822630423300055\n",
      "0.9831438229870928\n"
     ]
    }
   ],
   "source": [
    "for i in train_mean_svc:\n",
    "    print(i)"
   ]
  },
  {
   "cell_type": "code",
   "execution_count": 12,
   "metadata": {},
   "outputs": [
    {
     "name": "stdout",
     "output_type": "stream",
     "text": [
      "0.9603030479831771\n",
      "0.9712605169621694\n",
      "0.9774823412881591\n",
      "0.9796084579451501\n",
      "0.9825783562928292\n"
     ]
    }
   ],
   "source": [
    "for i in test_mean_svc:\n",
    "    print(i)"
   ]
  },
  {
   "cell_type": "markdown",
   "metadata": {},
   "source": [
    "# 5-Fold Cross validation Estimation for Random Forest"
   ]
  },
  {
   "cell_type": "code",
   "execution_count": 17,
   "metadata": {},
   "outputs": [],
   "source": [
    "from sklearn.ensemble import RandomForestClassifier"
   ]
  },
  {
   "cell_type": "code",
   "execution_count": 19,
   "metadata": {},
   "outputs": [],
   "source": [
    "pipe_rnd = Pipeline([('scl', StandardScaler()),('clf', RandomForestClassifier(n_estimators=10))])\n",
    "train_sizes_rnd, train_scores_rnd, test_scores_rnd = learning_curve(estimator=pipe_rnd,X=X, y=y, train_sizes=np.linspace(0.2,1.0,5), cv=5, n_jobs=-1)\n",
    "train_mean_rnd = np.mean(train_scores_rnd, axis=1)\n",
    "train_std_rnd = np.std(train_scores_rnd, axis=1)\n",
    "test_mean_rnd = np.mean(test_scores_rnd, axis=1)\n",
    "test_std_rnd = np.std(test_scores_rnd, axis=1)"
   ]
  },
  {
   "cell_type": "code",
   "execution_count": 20,
   "metadata": {},
   "outputs": [
    {
     "name": "stdout",
     "output_type": "stream",
     "text": [
      "0.9866876200453991\n",
      "0.9884634188929631\n",
      "0.9906862231534834\n",
      "0.992856643967173\n",
      "0.9942168674698795\n"
     ]
    }
   ],
   "source": [
    "for i in train_mean_rnd:\n",
    "    print(i)"
   ]
  },
  {
   "cell_type": "code",
   "execution_count": 21,
   "metadata": {},
   "outputs": [
    {
     "name": "stdout",
     "output_type": "stream",
     "text": [
      "0.9439088829638763\n",
      "0.9685588432554251\n",
      "0.9801726981234566\n",
      "0.9884841598922233\n",
      "0.9932225637013902\n"
     ]
    }
   ],
   "source": [
    "for i in test_mean_rnd:\n",
    "    print(i)"
   ]
  },
  {
   "cell_type": "markdown",
   "metadata": {},
   "source": [
    "# Mean values of Training and Testing accuracies and Standard Deviation of Training and Testing accuracies are given below"
   ]
  },
  {
   "cell_type": "code",
   "execution_count": 58,
   "metadata": {},
   "outputs": [
    {
     "data": {
      "text/plain": [
       "(0.9825350341636725,\n",
       " 0.9827354393092291,\n",
       " 0.9899853295348444,\n",
       " 0.9899843194255066,\n",
       " 0.988992106220478)"
      ]
     },
     "execution_count": 58,
     "metadata": {},
     "output_type": "execute_result"
    }
   ],
   "source": [
    "np.mean(train_mean) , np.mean(train_mean_svc), np.mean(train_mean_tree), np.mean(train_mean_rnd), np.mean(train_mean_mlp)"
   ]
  },
  {
   "cell_type": "code",
   "execution_count": 60,
   "metadata": {},
   "outputs": [
    {
     "data": {
      "text/plain": [
       "(0.0012669016539291768,\n",
       " 0.0015004132547957309,\n",
       " 0.000812529982066585,\n",
       " 0.0008124067495914715,\n",
       " 0.0013105445891091817)"
      ]
     },
     "execution_count": 60,
     "metadata": {},
     "output_type": "execute_result"
    }
   ],
   "source": [
    "np.mean(train_std) , np.mean(train_std_svc), np.mean(train_std_tree), np.mean(train_std_rnd), np.mean(train_std_mlp)"
   ]
  },
  {
   "cell_type": "code",
   "execution_count": 61,
   "metadata": {},
   "outputs": [
    {
     "data": {
      "text/plain": [
       "(0.9745988472667129,\n",
       " 0.9762471837085901,\n",
       " 0.9707884454993927,\n",
       " 0.9725458663799749,\n",
       " 0.9611862286384287)"
      ]
     },
     "execution_count": 61,
     "metadata": {},
     "output_type": "execute_result"
    }
   ],
   "source": [
    "np.mean(test_mean) , np.mean(test_mean_svc), np.mean(test_mean_tree), np.mean(test_mean_rnd), np.mean(test_mean_mlp)"
   ]
  },
  {
   "cell_type": "code",
   "execution_count": 62,
   "metadata": {},
   "outputs": [
    {
     "data": {
      "text/plain": [
       "(0.005597696152259861,\n",
       " 0.006471826851518314,\n",
       " 0.016850233251830146,\n",
       " 0.014866038573080196,\n",
       " 0.021343692164590724)"
      ]
     },
     "execution_count": 62,
     "metadata": {},
     "output_type": "execute_result"
    }
   ],
   "source": [
    "np.mean(test_std) , np.mean(test_std_svc), np.mean(test_std_tree), np.mean(test_std_rnd), np.mean(test_std_mlp)"
   ]
  },
  {
   "cell_type": "markdown",
   "metadata": {},
   "source": [
    "# Evaluation Metrics Calculations for Logisitic Regression"
   ]
  },
  {
   "cell_type": "code",
   "execution_count": 13,
   "metadata": {},
   "outputs": [
    {
     "name": "stderr",
     "output_type": "stream",
     "text": [
      "C:\\Users\\hp\\anaconda3\\Lib\\site-packages\\sklearn\\linear_model\\_logistic.py:458: ConvergenceWarning: lbfgs failed to converge (status=1):\n",
      "STOP: TOTAL NO. of ITERATIONS REACHED LIMIT.\n",
      "\n",
      "Increase the number of iterations (max_iter) or scale the data as shown in:\n",
      "    https://scikit-learn.org/stable/modules/preprocessing.html\n",
      "Please also refer to the documentation for alternative solver options:\n",
      "    https://scikit-learn.org/stable/modules/linear_model.html#logistic-regression\n",
      "  n_iter_i = _check_optimize_result(\n"
     ]
    }
   ],
   "source": [
    "pipe_lr = pipe_lr.fit(X_train, y_train)"
   ]
  },
  {
   "cell_type": "code",
   "execution_count": 14,
   "metadata": {},
   "outputs": [],
   "source": [
    "y_pred_train = pipe_lr.predict(X_train)"
   ]
  },
  {
   "cell_type": "code",
   "execution_count": 15,
   "metadata": {},
   "outputs": [],
   "source": [
    "y_pred_test = pipe_lr.predict(X_test)"
   ]
  },
  {
   "cell_type": "code",
   "execution_count": 17,
   "metadata": {},
   "outputs": [
    {
     "data": {
      "text/plain": [
       "0.9882626976588255"
      ]
     },
     "execution_count": 17,
     "metadata": {},
     "output_type": "execute_result"
    }
   ],
   "source": [
    "accuracy_score(y_train, y_pred_train)"
   ]
  },
  {
   "cell_type": "code",
   "execution_count": 18,
   "metadata": {},
   "outputs": [
    {
     "data": {
      "text/plain": [
       "0.9879311067342749"
      ]
     },
     "execution_count": 18,
     "metadata": {},
     "output_type": "execute_result"
    }
   ],
   "source": [
    "accuracy_score(y_test, y_pred_test)"
   ]
  },
  {
   "cell_type": "code",
   "execution_count": 20,
   "metadata": {},
   "outputs": [],
   "source": [
    "target_names = ['Normal', 'DoSattack', 'scan', 'malitiousControl', 'malitiousOperation', 'spying', 'dataProbing', 'wrongSetUp']"
   ]
  },
  {
   "cell_type": "code",
   "execution_count": 21,
   "metadata": {},
   "outputs": [
    {
     "name": "stdout",
     "output_type": "stream",
     "text": [
      "                    precision    recall  f1-score   support\n",
      "\n",
      "            Normal       0.96      0.65      0.78      4602\n",
      "         DoSattack       0.88      0.88      0.88       279\n",
      "              scan       0.98      0.92      0.95       720\n",
      "  malitiousControl       0.78      0.48      0.59       650\n",
      "malitiousOperation       0.90      0.50      0.64      1242\n",
      "            spying       0.00      0.00      0.00       412\n",
      "       dataProbing       0.90      1.00      0.95        94\n",
      "        wrongSetUp       0.99      1.00      0.99    278353\n",
      "\n",
      "          accuracy                           0.99    286352\n",
      "         macro avg       0.80      0.68      0.72    286352\n",
      "      weighted avg       0.99      0.99      0.99    286352\n",
      "\n"
     ]
    }
   ],
   "source": [
    "print(classification_report(y_train, y_pred_train, target_names=target_names))"
   ]
  },
  {
   "cell_type": "code",
   "execution_count": 22,
   "metadata": {},
   "outputs": [
    {
     "name": "stdout",
     "output_type": "stream",
     "text": [
      "                    precision    recall  f1-score   support\n",
      "\n",
      "            Normal       0.96      0.66      0.78      1178\n",
      "         DoSattack       0.87      0.87      0.87        63\n",
      "              scan       0.97      0.92      0.94       169\n",
      "  malitiousControl       0.76      0.50      0.60       155\n",
      "malitiousOperation       0.88      0.47      0.61       305\n",
      "            spying       0.00      0.00      0.00       120\n",
      "       dataProbing       0.93      1.00      0.97        28\n",
      "        wrongSetUp       0.99      1.00      0.99     69571\n",
      "\n",
      "          accuracy                           0.99     71589\n",
      "         macro avg       0.80      0.68      0.72     71589\n",
      "      weighted avg       0.99      0.99      0.99     71589\n",
      "\n"
     ]
    }
   ],
   "source": [
    "print(classification_report(y_test, y_pred_test, target_names=target_names))"
   ]
  },
  {
   "cell_type": "code",
   "execution_count": 24,
   "metadata": {},
   "outputs": [],
   "source": [
    "cnf_matrix = confusion_matrix(y_test, y_pred_test)"
   ]
  },
  {
   "cell_type": "code",
   "execution_count": 26,
   "metadata": {},
   "outputs": [
    {
     "name": "stdout",
     "output_type": "stream",
     "text": [
      "775 &0 &0 &0 &0 &0 &0 &403 &\n",
      "0 &55 &0 &0 &0 &0 &0 &8 &\n",
      "0 &0 &155 &0 &0 &0 &0 &14 &\n",
      "0 &0 &0 &78 &0 &0 &0 &77 &\n",
      "0 &0 &5 &5 &143 &0 &2 &150 &\n",
      "0 &0 &0 &0 &16 &0 &0 &104 &\n",
      "0 &0 &0 &0 &0 &0 &28 &0 &\n",
      "34 &8 &0 &20 &3 &15 &0 &69491 &\n"
     ]
    }
   ],
   "source": [
    "for i in cnf_matrix:\n",
    "    for j in i:\n",
    "        print(j, end=' &')\n",
    "    print()"
   ]
  },
  {
   "cell_type": "markdown",
   "metadata": {},
   "source": [
    "# Evaluation Metrics Calculations for SVM"
   ]
  },
  {
   "cell_type": "code",
   "execution_count": 27,
   "metadata": {},
   "outputs": [
    {
     "ename": "NameError",
     "evalue": "name 'pipe_svc' is not defined",
     "output_type": "error",
     "traceback": [
      "\u001b[1;31m---------------------------------------------------------------------------\u001b[0m",
      "\u001b[1;31mNameError\u001b[0m                                 Traceback (most recent call last)",
      "Cell \u001b[1;32mIn[27], line 1\u001b[0m\n\u001b[1;32m----> 1\u001b[0m pipe_svc \u001b[38;5;241m=\u001b[39m pipe_svc\u001b[38;5;241m.\u001b[39mfit(X_train, y_train)\n\u001b[0;32m      2\u001b[0m y_pred_train \u001b[38;5;241m=\u001b[39m pipe_svc\u001b[38;5;241m.\u001b[39mpredict(X_train)\n\u001b[0;32m      3\u001b[0m y_pred_test \u001b[38;5;241m=\u001b[39m pipe_svc\u001b[38;5;241m.\u001b[39mpredict(X_test)\n",
      "\u001b[1;31mNameError\u001b[0m: name 'pipe_svc' is not defined"
     ]
    }
   ],
   "source": [
    "pipe_svc = pipe_svc.fit(X_train, y_train)\n",
    "y_pred_train = pipe_svc.predict(X_train)\n",
    "y_pred_test = pipe_svc.predict(X_test)"
   ]
  },
  {
   "cell_type": "code",
   "execution_count": 38,
   "metadata": {},
   "outputs": [
    {
     "data": {
      "text/plain": [
       "(0.9826332625579706, 0.9827627149422398)"
      ]
     },
     "execution_count": 38,
     "metadata": {},
     "output_type": "execute_result"
    }
   ],
   "source": [
    "accuracy_score(y_train, y_pred_train), accuracy_score(y_test, y_pred_test)"
   ]
  },
  {
   "cell_type": "code",
   "execution_count": 39,
   "metadata": {},
   "outputs": [
    {
     "name": "stdout",
     "output_type": "stream",
     "text": [
      "                    precision    recall  f1-score   support\n",
      "\n",
      "            Normal       0.97      0.65      0.78      4602\n",
      "         DoSattack       0.00      0.00      0.00       279\n",
      "              scan       0.78      0.04      0.07       720\n",
      "  malitiousControl       1.00      0.16      0.27       650\n",
      "malitiousOperation       0.00      0.00      0.00      1242\n",
      "            spying       0.00      0.00      0.00       412\n",
      "       dataProbing       0.00      0.00      0.00        94\n",
      "        wrongSetUp       0.98      1.00      0.99    278353\n",
      "\n",
      "       avg / total       0.98      0.98      0.98    286352\n",
      "\n"
     ]
    },
    {
     "name": "stderr",
     "output_type": "stream",
     "text": [
      "C:\\Users\\HP\\Anaconda3\\lib\\site-packages\\sklearn\\metrics\\classification.py:1135: UndefinedMetricWarning: Precision and F-score are ill-defined and being set to 0.0 in labels with no predicted samples.\n",
      "  'precision', 'predicted', average, warn_for)\n"
     ]
    }
   ],
   "source": [
    "print(classification_report(y_train, y_pred_train, target_names=target_names))"
   ]
  },
  {
   "cell_type": "code",
   "execution_count": 40,
   "metadata": {},
   "outputs": [
    {
     "name": "stdout",
     "output_type": "stream",
     "text": [
      "                    precision    recall  f1-score   support\n",
      "\n",
      "            Normal       0.96      0.66      0.78      1178\n",
      "         DoSattack       0.00      0.00      0.00        63\n",
      "              scan       0.83      0.06      0.11       169\n",
      "  malitiousControl       1.00      0.21      0.35       155\n",
      "malitiousOperation       0.00      0.00      0.00       305\n",
      "            spying       0.00      0.00      0.00       120\n",
      "       dataProbing       0.00      0.00      0.00        28\n",
      "        wrongSetUp       0.98      1.00      0.99     69571\n",
      "\n",
      "       avg / total       0.98      0.98      0.98     71589\n",
      "\n"
     ]
    },
    {
     "name": "stderr",
     "output_type": "stream",
     "text": [
      "C:\\Users\\HP\\Anaconda3\\lib\\site-packages\\sklearn\\metrics\\classification.py:1135: UndefinedMetricWarning: Precision and F-score are ill-defined and being set to 0.0 in labels with no predicted samples.\n",
      "  'precision', 'predicted', average, warn_for)\n"
     ]
    }
   ],
   "source": [
    "print(classification_report(y_test, y_pred_test, target_names=target_names))"
   ]
  },
  {
   "cell_type": "code",
   "execution_count": 41,
   "metadata": {},
   "outputs": [
    {
     "name": "stdout",
     "output_type": "stream",
     "text": [
      "775&0&0&0&0&0&0&403&\n",
      "0&0&0&0&0&0&0&63&\n",
      "0&0&10&0&0&0&0&159&\n",
      "0&0&0&33&0&0&0&122&\n",
      "0&0&2&0&0&0&0&303&\n",
      "0&0&0&0&0&0&0&120&\n",
      "0&0&0&0&0&0&0&28&\n",
      "34&0&0&0&0&0&0&69537&\n"
     ]
    }
   ],
   "source": [
    "cnf_matrix = confusion_matrix(y_test, y_pred_test)\n",
    "for i in cnf_matrix:\n",
    "    for j in i:\n",
    "        print(j, end='&')\n",
    "    print()"
   ]
  },
  {
   "cell_type": "markdown",
   "metadata": {},
   "source": [
    "# Evaluation Metrics Calculations for Random Forest"
   ]
  },
  {
   "cell_type": "code",
   "execution_count": 47,
   "metadata": {},
   "outputs": [],
   "source": [
    "pipe_rnd = pipe_rnd.fit(X_train, y_train)\n",
    "y_pred_train = pipe_rnd.predict(X_train)\n",
    "y_pred_test = pipe_rnd.predict(X_test)"
   ]
  },
  {
   "cell_type": "code",
   "execution_count": 48,
   "metadata": {},
   "outputs": [],
   "source": [
    "y_pred_train = pipe_rnd.predict(X_train)\n",
    "y_pred_test = pipe_rnd.predict(X_test)"
   ]
  },
  {
   "cell_type": "code",
   "execution_count": 49,
   "metadata": {},
   "outputs": [
    {
     "data": {
      "text/plain": [
       "(0.9942413532994356, 0.994119208258252)"
      ]
     },
     "execution_count": 49,
     "metadata": {},
     "output_type": "execute_result"
    }
   ],
   "source": [
    "accuracy_score(y_train, y_pred_train), accuracy_score(y_test, y_pred_test)"
   ]
  },
  {
   "cell_type": "code",
   "execution_count": 50,
   "metadata": {},
   "outputs": [
    {
     "name": "stdout",
     "output_type": "stream",
     "text": [
      "                    precision    recall  f1-score   support\n",
      "\n",
      "            Normal       0.98      0.65      0.78      4602\n",
      "         DoSattack       1.00      1.00      1.00       279\n",
      "              scan       1.00      1.00      1.00       720\n",
      "  malitiousControl       1.00      1.00      1.00       650\n",
      "malitiousOperation       1.00      1.00      1.00      1242\n",
      "            spying       1.00      1.00      1.00       412\n",
      "       dataProbing       1.00      1.00      1.00        94\n",
      "        wrongSetUp       0.99      1.00      1.00    278353\n",
      "\n",
      "       avg / total       0.99      0.99      0.99    286352\n",
      "\n"
     ]
    }
   ],
   "source": [
    "print(classification_report(y_train, y_pred_train, target_names=target_names))"
   ]
  },
  {
   "cell_type": "code",
   "execution_count": 51,
   "metadata": {},
   "outputs": [
    {
     "name": "stdout",
     "output_type": "stream",
     "text": [
      "                    precision    recall  f1-score   support\n",
      "\n",
      "            Normal       0.98      0.66      0.79      1178\n",
      "         DoSattack       1.00      1.00      1.00        63\n",
      "              scan       1.00      1.00      1.00       169\n",
      "  malitiousControl       1.00      1.00      1.00       155\n",
      "malitiousOperation       1.00      1.00      1.00       305\n",
      "            spying       1.00      1.00      1.00       120\n",
      "       dataProbing       1.00      1.00      1.00        28\n",
      "        wrongSetUp       0.99      1.00      1.00     69571\n",
      "\n",
      "       avg / total       0.99      0.99      0.99     71589\n",
      "\n"
     ]
    }
   ],
   "source": [
    "print(classification_report(y_test, y_pred_test, target_names=target_names))"
   ]
  },
  {
   "cell_type": "code",
   "execution_count": 37,
   "metadata": {},
   "outputs": [],
   "source": [
    "cnf_matrix = confusion_matrix(y_test, y_pred_test)"
   ]
  },
  {
   "cell_type": "code",
   "execution_count": 38,
   "metadata": {},
   "outputs": [
    {
     "data": {
      "text/plain": [
       "array([[  775,     0,     0,     0,     0,     0,     0,   403],\n",
       "       [    0,    55,     0,     0,     0,     0,     0,     8],\n",
       "       [    0,     0,   155,     0,     0,     0,     0,    14],\n",
       "       [    0,     0,     0,    78,     0,     0,     0,    77],\n",
       "       [    0,     0,     5,     5,   143,     0,     2,   150],\n",
       "       [    0,     0,     0,     0,    16,     0,     0,   104],\n",
       "       [    0,     0,     0,     0,     0,     0,    28,     0],\n",
       "       [   34,     8,     0,    20,     3,    15,     0, 69491]],\n",
       "      dtype=int64)"
      ]
     },
     "execution_count": 38,
     "metadata": {},
     "output_type": "execute_result"
    }
   ],
   "source": [
    "cnf_matrix"
   ]
  },
  {
   "cell_type": "code",
   "execution_count": null,
   "metadata": {},
   "outputs": [],
   "source": []
  }
 ],
 "metadata": {
  "kernelspec": {
   "display_name": "Python 3 (ipykernel)",
   "language": "python",
   "name": "python3"
  },
  "language_info": {
   "codemirror_mode": {
    "name": "ipython",
    "version": 3
   },
   "file_extension": ".py",
   "mimetype": "text/x-python",
   "name": "python",
   "nbconvert_exporter": "python",
   "pygments_lexer": "ipython3",
   "version": "3.11.7"
  }
 },
 "nbformat": 4,
 "nbformat_minor": 4
}
